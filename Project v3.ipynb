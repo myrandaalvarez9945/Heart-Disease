{
 "cells": [
  {
   "cell_type": "markdown",
   "id": "230edf0b-4f31-4b7f-a737-911d5abe52a3",
   "metadata": {},
   "source": [
    "We can change this as we go, but I think this is a good starting point. There are somethings that I need to fix, but feel free to mess and change things."
   ]
  },
  {
   "cell_type": "markdown",
   "id": "9696294f-c183-4f2d-ac18-e3a792df04cf",
   "metadata": {},
   "source": [
    "Understanding the Data"
   ]
  },
  {
   "cell_type": "code",
   "execution_count": null,
   "id": "5f6dc256-5e46-40ee-845b-2ae496273224",
   "metadata": {},
   "outputs": [],
   "source": [
    "# Importing Necessary Imports\n",
    "\n",
    "# Loading Dataset Imports\n",
    "import pandas as pd\n",
    "import numpy as np\n",
    "\n",
    "# Loading Visualizations Imports \n",
    "import matplotlib.pyplot as plt\n",
    "import seaborn as sns\n",
    "\n",
    "# Data Preprocessing Imports\n",
    "from sklearn.preprocessing import StandardScaler\n",
    "\n",
    "# Data Splitting Imports\n",
    "from sklearn.model_selection import train_test_split\n",
    "\n",
    "# Data Model Imports\n",
    "from sklearn.linear_model import LogisticRegression\n",
    "\n",
    "# Metrics Imports\n",
    "from sklearn.metrics import confusion_matrix, accuracy_score, roc_curve"
   ]
  },
  {
   "cell_type": "code",
   "execution_count": null,
   "id": "00fe2093-c82c-4f2d-949b-0978f06ca771",
   "metadata": {},
   "outputs": [],
   "source": [
    "data = pd.read_csv('Heart Disease/heart.csv')\n",
    "data.head()"
   ]
  },
  {
   "cell_type": "code",
   "execution_count": null,
   "id": "3ae1f9d2",
   "metadata": {},
   "outputs": [],
   "source": [
    "data.shape"
   ]
  },
  {
   "cell_type": "code",
   "execution_count": null,
   "id": "fdefee48-85e7-4078-a527-03500d1f3242",
   "metadata": {},
   "outputs": [],
   "source": [
    "data.info()"
   ]
  },
  {
   "cell_type": "code",
   "execution_count": null,
   "id": "2debfafa-39ac-472e-997a-fe687a61fa30",
   "metadata": {},
   "outputs": [],
   "source": [
    "data.describe()"
   ]
  },
  {
   "cell_type": "markdown",
   "id": "f6d801f6-2fc4-41d0-af75-39f04c398129",
   "metadata": {},
   "source": [
    "Data Visualizations"
   ]
  },
  {
   "cell_type": "code",
   "execution_count": null,
   "id": "fabeb18d-e35a-444a-86bb-44dfd4fcb5c3",
   "metadata": {},
   "outputs": [],
   "source": [
    "# Correlation headmap\n",
    "corr_matrix = data.corr()\n",
    "\n",
    "plt.figure(figsize=(20, 10))\n",
    "sns.heatmap(corr_matrix, annot=True, cmap='coolwarm')\n",
    "plt.title('Correlation Matrix')\n",
    "plt.show()\n",
    "#(I observe positive correlation between target and cp, thalach, slope and negative correlation between target and sex, exang, ca, thai, oldpeak)"
   ]
  },
  {
   "cell_type": "code",
   "execution_count": null,
   "id": "cfc18306",
   "metadata": {},
   "outputs": [],
   "source": [
    "# Plot histrogram for whole data set using hist()\n",
    "data.hist(figsize=(12,12), layout=(5,3))\n",
    "plot.show()"
   ]
  },
  {
   "cell_type": "code",
   "execution_count": null,
   "id": "a246f8d9",
   "metadata": {},
   "outputs": [],
   "source": [
    "plt.figure(figsize=(8,8))\n",
    "plt.pie(data['target'].value_counts(), labels='Heart Disease', 'No Heart Disease'].autopct='%.1%%')\n",
    "plt.title('Class Distribution')\n",
    "plt.show()"
   ]
  },
  {
   "cell_type": "code",
   "execution_count": null,
   "id": "48374321-c1ca-44e9-96dd-a58df6058b84",
   "metadata": {},
   "outputs": [],
   "source": [
    "# BoxPlot Graph or we can do something else here\n",
    "data.plot(kind='box', subplots=True. layout=(5,3), figsize=(12,12))\n",
    "plt.show()"
   ]
  },
  {
   "cell_type": "markdown",
   "id": "369c142e-fb1f-4591-b9b0-934aa8173693",
   "metadata": {},
   "source": [
    "Data Preprocessing"
   ]
  },
  {
   "cell_type": "code",
   "execution_count": null,
   "id": "b5689602-1fad-4f6b-851f-5d52258b50a1",
   "metadata": {},
   "outputs": [],
   "source": [
    "# Checking if there are any NULL values\n",
    "missing_values = data.isnull().sum()\n",
    "print(missing_values)\n",
    "#(I noticed that the dataset hes no null values. So saved us from converting the null values into some data or dropping then altogeder)"
   ]
  },
  {
   "cell_type": "code",
   "execution_count": null,
   "id": "34fc3227-2202-404f-9d2c-9e08192aab45",
   "metadata": {},
   "outputs": [],
   "source": [
    "# Initiating the Scaler\n",
    "scaler = StandardScaler()\n",
    "\n",
    "# Numerical Features of the Scale\n",
    "numerical_features = ['age', 'trestbps', 'chol', 'thalach', 'oldpeak']\n",
    "\n",
    "# We are applying scaling here\n",
    "data[numerical_features] = scaler.fit_transform(data[numerical_features])"
   ]
  },
  {
   "cell_type": "code",
   "execution_count": null,
   "id": "bff106c9-a08f-4f06-bb2a-a4ea297f898e",
   "metadata": {},
   "outputs": [],
   "source": [
    "# Using one-hot encoding\n",
    "categorical_features = ['cp', 'restecg', 'slope', 'ca', 'thal']\n",
    "data = pd.get_dummies(data, columns = categorical_features)"
   ]
  },
  {
   "cell_type": "code",
   "execution_count": null,
   "id": "497b8a3b-e920-4de0-b42e-95cbfa6a5aa8",
   "metadata": {},
   "outputs": [],
   "source": [
    "# Making sure that it transformed\n",
    "print(data.head())"
   ]
  },
  {
   "cell_type": "code",
   "execution_count": null,
   "id": "d7fbf0d4-ad5a-4807-8427-ec19789a2046",
   "metadata": {},
   "outputs": [],
   "source": [
    "# Converting the True/False into Integers\n",
    "for col in data.columns:\n",
    "    if data[col].dtype == 'bool':\n",
    "        data[col].astype(int)"
   ]
  },
  {
   "cell_type": "code",
   "execution_count": null,
   "id": "0bd31ccc-4dba-4029-a862-93a38154334c",
   "metadata": {},
   "outputs": [],
   "source": [
    "X = data.drop('target', axis=1)  \n",
    "y = data['target']              "
   ]
  },
  {
   "cell_type": "markdown",
   "id": "45a72b4e-78fc-4889-8ed0-1b24fa552550",
   "metadata": {},
   "source": [
    "Split the Data"
   ]
  },
  {
   "cell_type": "code",
   "execution_count": null,
   "id": "4cfc9dd4-3a8b-4bac-a08c-92c4f0f26641",
   "metadata": {},
   "outputs": [],
   "source": [
    "X_train, X_test, y_train, y_test = train_test_split(X, y, test_size = 0.2, random_state = 42)"
   ]
  },
  {
   "cell_type": "markdown",
   "id": "51e2b0a9-d172-4647-b465-623386540e4c",
   "metadata": {},
   "source": [
    "Selecting the Two Comparison Algorithms"
   ]
  },
  {
   "cell_type": "code",
   "execution_count": null,
   "id": "8a89e913-a554-421b-a3b4-0381ab8f9732",
   "metadata": {},
   "outputs": [],
   "source": [
    "# Using Logistic Regression\n",
    "lr = LogisticRegression()\n",
    "lr.fit(X_train, y_train)"
   ]
  },
  {
   "cell_type": "code",
   "execution_count": null,
   "id": "0c43a3c0-706e-4ce6-81c7-6c8fd8350402",
   "metadata": {},
   "outputs": [],
   "source": [
    "# We need one more to compare to see which is the best algorithm"
   ]
  },
  {
   "cell_type": "markdown",
   "id": "e051c321-85c3-47eb-93aa-ea508576a564",
   "metadata": {},
   "source": [
    "Testing the Model to Make Predictions"
   ]
  },
  {
   "cell_type": "code",
   "execution_count": null,
   "id": "63e41c68-cbaf-4061-9de8-2210a7e7068d",
   "metadata": {},
   "outputs": [],
   "source": [
    "# Making Predictions\n",
    "predictions = lr.predict(X_test)"
   ]
  },
  {
   "cell_type": "code",
   "execution_count": null,
   "id": "9f245b7f-d596-4922-8ae8-aa84933b9c4e",
   "metadata": {},
   "outputs": [],
   "source": [
    "# Calculate accuracy\n",
    "accuracy = accuracy_score(y_test, predictions)\n",
    "print(f\"Accuracy: {accuracy:.2f}\")\n",
    "\n",
    "# Generate a confusion matrix\n",
    "conf_matrix = confusion_matrix(y_test, predictions)\n",
    "print(\"Confusion Matrix:\")\n",
    "print(conf_matrix)"
   ]
  }
 ],
 "metadata": {
  "kernelspec": {
   "display_name": "Python 3 (ipykernel)",
   "language": "python",
   "name": "python3"
  },
  "language_info": {
   "codemirror_mode": {
    "name": "ipython",
    "version": 3
   },
   "file_extension": ".py",
   "mimetype": "text/x-python",
   "name": "python",
   "nbconvert_exporter": "python",
   "pygments_lexer": "ipython3",
   "version": "3.12.4"
  }
 },
 "nbformat": 4,
 "nbformat_minor": 5
}
