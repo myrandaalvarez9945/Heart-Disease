{
 "cells": [
  {
   "cell_type": "markdown",
   "id": "9696294f-c183-4f2d-ac18-e3a792df04cf",
   "metadata": {},
   "source": [
    "Understanding the Data"
   ]
  },
  {
   "cell_type": "code",
   "execution_count": null,
   "id": "5f6dc256-5e46-40ee-845b-2ae496273224",
   "metadata": {},
   "outputs": [],
   "source": []
  },
  {
   "cell_type": "code",
   "execution_count": null,
   "id": "00fe2093-c82c-4f2d-949b-0978f06ca771",
   "metadata": {},
   "outputs": [],
   "source": []
  },
  {
   "cell_type": "markdown",
   "id": "369c142e-fb1f-4591-b9b0-934aa8173693",
   "metadata": {},
   "source": [
    "Data Preprocessing"
   ]
  },
  {
   "cell_type": "code",
   "execution_count": null,
   "id": "b5689602-1fad-4f6b-851f-5d52258b50a1",
   "metadata": {},
   "outputs": [],
   "source": []
  },
  {
   "cell_type": "code",
   "execution_count": null,
   "id": "34fc3227-2202-404f-9d2c-9e08192aab45",
   "metadata": {},
   "outputs": [],
   "source": []
  },
  {
   "cell_type": "markdown",
   "id": "45a72b4e-78fc-4889-8ed0-1b24fa552550",
   "metadata": {},
   "source": [
    "Split the Data"
   ]
  },
  {
   "cell_type": "code",
   "execution_count": null,
   "id": "43bce913-60c1-40f0-9dbe-658f1cb9e61e",
   "metadata": {},
   "outputs": [],
   "source": []
  },
  {
   "cell_type": "code",
   "execution_count": null,
   "id": "960f7157-f9ed-4896-821d-dbd55f2aa452",
   "metadata": {},
   "outputs": [],
   "source": []
  },
  {
   "cell_type": "markdown",
   "id": "51e2b0a9-d172-4647-b465-623386540e4c",
   "metadata": {},
   "source": [
    "Selecting the Two Comparison Algorithms"
   ]
  },
  {
   "cell_type": "code",
   "execution_count": null,
   "id": "8a89e913-a554-421b-a3b4-0381ab8f9732",
   "metadata": {},
   "outputs": [],
   "source": []
  },
  {
   "cell_type": "code",
   "execution_count": null,
   "id": "9b411d95-c781-43c5-a29a-3755d4e45486",
   "metadata": {},
   "outputs": [],
   "source": []
  },
  {
   "cell_type": "markdown",
   "id": "b148365c-4c1a-4115-8cd9-d89152e80bc8",
   "metadata": {},
   "source": [
    "Train the Model on Both Comparison Algorithms"
   ]
  },
  {
   "cell_type": "code",
   "execution_count": null,
   "id": "63e41c68-cbaf-4061-9de8-2210a7e7068d",
   "metadata": {},
   "outputs": [],
   "source": []
  },
  {
   "cell_type": "code",
   "execution_count": null,
   "id": "9f245b7f-d596-4922-8ae8-aa84933b9c4e",
   "metadata": {},
   "outputs": [],
   "source": []
  },
  {
   "cell_type": "markdown",
   "id": "1ffa2625-efc4-48b5-86c5-a5009ae3eedd",
   "metadata": {},
   "source": [
    "Test the Model"
   ]
  },
  {
   "cell_type": "code",
   "execution_count": null,
   "id": "94d88ec4-e7d0-419e-9567-daa2687a72a9",
   "metadata": {},
   "outputs": [],
   "source": []
  },
  {
   "cell_type": "code",
   "execution_count": null,
   "id": "c029429a-fd3e-43ff-9cba-28b811cffdab",
   "metadata": {},
   "outputs": [],
   "source": []
  }
 ],
 "metadata": {
  "kernelspec": {
   "display_name": "Python 3 (ipykernel)",
   "language": "python",
   "name": "python3"
  },
  "language_info": {
   "codemirror_mode": {
    "name": "ipython",
    "version": 3
   },
   "file_extension": ".py",
   "mimetype": "text/x-python",
   "name": "python",
   "nbconvert_exporter": "python",
   "pygments_lexer": "ipython3",
   "version": "3.12.4"
  }
 },
 "nbformat": 4,
 "nbformat_minor": 5
}
